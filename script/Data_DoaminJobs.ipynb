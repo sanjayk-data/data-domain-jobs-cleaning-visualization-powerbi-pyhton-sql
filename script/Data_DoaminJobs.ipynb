{
 "cells": [
  {
   "cell_type": "code",
   "execution_count": 1,
   "id": "3aa5695d",
   "metadata": {},
   "outputs": [
    {
     "name": "stdout",
     "output_type": "stream",
     "text": [
      "Requirement already satisfied: pyodbc in d:\\python\\udemy python\\venv\\lib\\site-packages (5.2.0)\n",
      "Note: you may need to restart the kernel to use updated packages.\n"
     ]
    }
   ],
   "source": [
    "pip install pyodbc"
   ]
  },
  {
   "cell_type": "code",
   "execution_count": 8,
   "id": "a99ff8a8",
   "metadata": {},
   "outputs": [],
   "source": [
    "import numpy as np\n",
    "import pandas as pd\n",
    "import pyodbc"
   ]
  },
  {
   "cell_type": "code",
   "execution_count": 31,
   "id": "12ed0ee6",
   "metadata": {},
   "outputs": [],
   "source": [
    "#Create a connection to my database\n",
    "#DATABASE DETAILS\n",
    "server = \"ASUS\"\n",
    "password = \"Campusx@21\"\n",
    "\n",
    "#TABLE_NAMES\n",
    "table_name = [\"company_dim2\",\"job_postings_fact2\",\"skills_dim2\",\"skills_job_dim2\"]"
   ]
  },
  {
   "cell_type": "code",
   "execution_count": 42,
   "id": "4b33f4a3",
   "metadata": {},
   "outputs": [
    {
     "name": "stdout",
     "output_type": "stream",
     "text": [
      " Connected to database!\n"
     ]
    }
   ],
   "source": [
    "import pyodbc\n",
    "import warnings\n",
    "\n",
    "warnings.filterwarnings(\"ignore\", message=\".*pandas only supports SQLAlchemy.*\")\n",
    "\n",
    "conn_str = (\n",
    "    \"DRIVER={ODBC Driver 18 for SQL Server};\"\n",
    "    \"SERVER=ASUS;\"  # or ASUS\\\\SQLEXPRESS if named instance\n",
    "    \"DATABASE=class;\"\n",
    "    \"UID=sa;\"\n",
    "    \"PWD=Campusx@21;\"\n",
    "    \"Encrypt=yes;\"\n",
    "    \"TrustServerCertificate=yes;\"\n",
    ")\n",
    "table_names = [\"company_dim2\",\"job_postings_fact2\",\"skills_dim2\",\"skills_job_dim2\"]\n",
    "conn = pyodbc.connect(conn_str)\n",
    "print(\" Connected to database!\")"
   ]
  },
  {
   "cell_type": "code",
   "execution_count": 40,
   "id": "9e8dd057",
   "metadata": {},
   "outputs": [],
   "source": [
    "#Dicitionary to store all the tables\n",
    "dataframes = {}"
   ]
  },
  {
   "cell_type": "code",
   "execution_count": 43,
   "id": "81803561",
   "metadata": {},
   "outputs": [],
   "source": [
    "for table_name in table_names:\n",
    "    query = f\"select * from {table_name}\"\n",
    "    df = pd.read_sql(query,conn)\n",
    "    dataframes[table_name] = df\n",
    "\n",
    "conn.close()"
   ]
  },
  {
   "cell_type": "code",
   "execution_count": 47,
   "id": "e3478627",
   "metadata": {},
   "outputs": [],
   "source": [
    "company = dataframes['company_dim2']\n",
    "Job_posting = dataframes['job_postings_fact2']\n",
    "skill_id = dataframes['skills_job_dim2']\n",
    "skills = dataframes['skills_dim2']"
   ]
  },
  {
   "cell_type": "code",
   "execution_count": 54,
   "id": "70cbd4ac",
   "metadata": {},
   "outputs": [],
   "source": [
    "merge = pd.merge(company,Job_posting, on=\"company_id\",how = \"left\")"
   ]
  },
  {
   "cell_type": "code",
   "execution_count": 56,
   "id": "82956353",
   "metadata": {},
   "outputs": [],
   "source": [
    " merge = pd.merge(merge,skill_id, on=\"job_id\",how = \"left\")"
   ]
  },
  {
   "cell_type": "code",
   "execution_count": 58,
   "id": "4565bd8e",
   "metadata": {},
   "outputs": [],
   "source": [
    "merge = pd.merge(merge,skills, on=\"skill_id\",how = \"left\")"
   ]
  },
  {
   "cell_type": "code",
   "execution_count": 60,
   "id": "c6214ff3",
   "metadata": {},
   "outputs": [
    {
     "data": {
      "text/plain": [
       "Index(['company_id', 'name', 'link', 'link_google', 'thumbnail', 'job_id',\n",
       "       'job_title_short', 'job_title', 'job_location', 'job_via',\n",
       "       'job_schedule_type', 'job_work_from_home', 'search_location',\n",
       "       'job_posted_date', 'job_no_degree_mention', 'job_health_insurance',\n",
       "       'job_country', 'salary_rate', 'salary_year_avg', 'salary_hour_avg',\n",
       "       'skill_id', 'skills', 'type'],\n",
       "      dtype='object')"
      ]
     },
     "execution_count": 60,
     "metadata": {},
     "output_type": "execute_result"
    }
   ],
   "source": [
    "merge.columns"
   ]
  },
  {
   "cell_type": "code",
   "execution_count": 61,
   "id": "35d11b3e",
   "metadata": {},
   "outputs": [],
   "source": [
    "columns_to_be_dropped = ['link', 'link_google', 'thumbnail','job_via','job_no_degree_mention', 'job_health_insurance',\n",
    "       'job_country', 'salary_rate', 'salary_year_avg', 'salary_hour_avg',\n",
    "       'skill_id','type']"
   ]
  },
  {
   "cell_type": "code",
   "execution_count": 62,
   "id": "d5a3e96c",
   "metadata": {},
   "outputs": [],
   "source": [
    "merge.drop(columns = columns_to_be_dropped,inplace=True)"
   ]
  },
  {
   "cell_type": "code",
   "execution_count": 63,
   "id": "a58840d4",
   "metadata": {},
   "outputs": [
    {
     "data": {
      "text/plain": [
       "Index(['company_id', 'name', 'job_id', 'job_title_short', 'job_title',\n",
       "       'job_location', 'job_schedule_type', 'job_work_from_home',\n",
       "       'search_location', 'job_posted_date', 'skills'],\n",
       "      dtype='object')"
      ]
     },
     "execution_count": 63,
     "metadata": {},
     "output_type": "execute_result"
    }
   ],
   "source": [
    "merge.columns"
   ]
  },
  {
   "cell_type": "code",
   "execution_count": 64,
   "id": "488b55a3",
   "metadata": {},
   "outputs": [],
   "source": [
    "merge['skills']= merge['skills'].fillna('').astype(str)"
   ]
  },
  {
   "cell_type": "code",
   "execution_count": 66,
   "id": "2a090079",
   "metadata": {},
   "outputs": [],
   "source": [
    "final_dataframe = merge.groupby(['company_id', 'name', 'job_id', 'job_title_short', 'job_title',\n",
    "       'job_location', 'job_schedule_type', 'job_work_from_home',\n",
    "       'search_location', 'job_posted_date'])['skills'].agg(','.join).reset_index()"
   ]
  },
  {
   "cell_type": "code",
   "execution_count": 67,
   "id": "8aab2ed0",
   "metadata": {},
   "outputs": [
    {
     "data": {
      "text/html": [
       "<div>\n",
       "<style scoped>\n",
       "    .dataframe tbody tr th:only-of-type {\n",
       "        vertical-align: middle;\n",
       "    }\n",
       "\n",
       "    .dataframe tbody tr th {\n",
       "        vertical-align: top;\n",
       "    }\n",
       "\n",
       "    .dataframe thead th {\n",
       "        text-align: right;\n",
       "    }\n",
       "</style>\n",
       "<table border=\"1\" class=\"dataframe\">\n",
       "  <thead>\n",
       "    <tr style=\"text-align: right;\">\n",
       "      <th></th>\n",
       "      <th>company_id</th>\n",
       "      <th>name</th>\n",
       "      <th>job_id</th>\n",
       "      <th>job_title_short</th>\n",
       "      <th>job_title</th>\n",
       "      <th>job_location</th>\n",
       "      <th>job_schedule_type</th>\n",
       "      <th>job_work_from_home</th>\n",
       "      <th>search_location</th>\n",
       "      <th>job_posted_date</th>\n",
       "      <th>skills</th>\n",
       "    </tr>\n",
       "  </thead>\n",
       "  <tbody>\n",
       "    <tr>\n",
       "      <th>0</th>\n",
       "      <td>0</td>\n",
       "      <td>Cryptology</td>\n",
       "      <td>0</td>\n",
       "      <td>Data Analyst</td>\n",
       "      <td>Marketing Data Analyst</td>\n",
       "      <td>Anywhere</td>\n",
       "      <td>Full-time</td>\n",
       "      <td>True</td>\n",
       "      <td>Serbia</td>\n",
       "      <td>2023-09-25 17:46:06</td>\n",
       "      <td>sql,python</td>\n",
       "    </tr>\n",
       "    <tr>\n",
       "      <th>1</th>\n",
       "      <td>0</td>\n",
       "      <td>Cryptology</td>\n",
       "      <td>1695656</td>\n",
       "      <td>Data Analyst</td>\n",
       "      <td>Marketing Data Analyst</td>\n",
       "      <td>Anywhere</td>\n",
       "      <td>Full-time</td>\n",
       "      <td>True</td>\n",
       "      <td>United Kingdom</td>\n",
       "      <td>2023-09-25 18:11:19</td>\n",
       "      <td></td>\n",
       "    </tr>\n",
       "    <tr>\n",
       "      <th>2</th>\n",
       "      <td>0</td>\n",
       "      <td>Cryptology</td>\n",
       "      <td>1819517</td>\n",
       "      <td>Data Analyst</td>\n",
       "      <td>Marketing Data Analyst</td>\n",
       "      <td>Madrid, Spain</td>\n",
       "      <td>Full-time</td>\n",
       "      <td>False</td>\n",
       "      <td>Spain</td>\n",
       "      <td>2023-10-10 10:32:19</td>\n",
       "      <td>sql,python</td>\n",
       "    </tr>\n",
       "    <tr>\n",
       "      <th>3</th>\n",
       "      <td>0</td>\n",
       "      <td>Cryptology</td>\n",
       "      <td>923232</td>\n",
       "      <td>Data Analyst</td>\n",
       "      <td>Marketing Data Analyst</td>\n",
       "      <td>Anywhere</td>\n",
       "      <td>Full-time</td>\n",
       "      <td>True</td>\n",
       "      <td>Spain</td>\n",
       "      <td>2023-09-25 17:51:21</td>\n",
       "      <td>sql,python</td>\n",
       "    </tr>\n",
       "    <tr>\n",
       "      <th>4</th>\n",
       "      <td>1</td>\n",
       "      <td>Edraak</td>\n",
       "      <td>426775</td>\n",
       "      <td>Cloud Engineer</td>\n",
       "      <td>Virtualization Engineer</td>\n",
       "      <td>Kuwait City, Kuwait</td>\n",
       "      <td>Full-time</td>\n",
       "      <td>False</td>\n",
       "      <td>Kuwait</td>\n",
       "      <td>2023-06-06 17:35:59</td>\n",
       "      <td></td>\n",
       "    </tr>\n",
       "    <tr>\n",
       "      <th>...</th>\n",
       "      <td>...</td>\n",
       "      <td>...</td>\n",
       "      <td>...</td>\n",
       "      <td>...</td>\n",
       "      <td>...</td>\n",
       "      <td>...</td>\n",
       "      <td>...</td>\n",
       "      <td>...</td>\n",
       "      <td>...</td>\n",
       "      <td>...</td>\n",
       "      <td>...</td>\n",
       "    </tr>\n",
       "    <tr>\n",
       "      <th>773931</th>\n",
       "      <td>99997</td>\n",
       "      <td>1st Source Bank</td>\n",
       "      <td>1035725</td>\n",
       "      <td>Data Analyst</td>\n",
       "      <td>Business Data Analyst II, Loan Operations, Sou...</td>\n",
       "      <td>South Bend, IN</td>\n",
       "      <td>Full-time</td>\n",
       "      <td>False</td>\n",
       "      <td>Illinois, United States</td>\n",
       "      <td>2023-04-26 21:03:09</td>\n",
       "      <td>c</td>\n",
       "    </tr>\n",
       "    <tr>\n",
       "      <th>773932</th>\n",
       "      <td>99997</td>\n",
       "      <td>1st Source Bank</td>\n",
       "      <td>970738</td>\n",
       "      <td>Data Analyst</td>\n",
       "      <td>Credit Business Data Analyst I, South Bend, IN</td>\n",
       "      <td>South Bend, IN</td>\n",
       "      <td>Full-time</td>\n",
       "      <td>False</td>\n",
       "      <td>Illinois, United States</td>\n",
       "      <td>2023-01-14 02:04:10</td>\n",
       "      <td></td>\n",
       "    </tr>\n",
       "    <tr>\n",
       "      <th>773933</th>\n",
       "      <td>99999</td>\n",
       "      <td>Iceland</td>\n",
       "      <td>1033637</td>\n",
       "      <td>Senior Data Analyst</td>\n",
       "      <td>Senior Customer Data Analyst. Job in Deeside M...</td>\n",
       "      <td>Deeside, UK</td>\n",
       "      <td>Full-time</td>\n",
       "      <td>False</td>\n",
       "      <td>United Kingdom</td>\n",
       "      <td>2023-03-15 10:13:59</td>\n",
       "      <td>sql</td>\n",
       "    </tr>\n",
       "    <tr>\n",
       "      <th>773934</th>\n",
       "      <td>99999</td>\n",
       "      <td>Iceland</td>\n",
       "      <td>1035909</td>\n",
       "      <td>Business Analyst</td>\n",
       "      <td>Junior Business Analyst</td>\n",
       "      <td>Austria</td>\n",
       "      <td>Full-time</td>\n",
       "      <td>False</td>\n",
       "      <td>Austria</td>\n",
       "      <td>2023-10-08 21:43:02</td>\n",
       "      <td></td>\n",
       "    </tr>\n",
       "    <tr>\n",
       "      <th>773935</th>\n",
       "      <td>99999</td>\n",
       "      <td>Iceland</td>\n",
       "      <td>642276</td>\n",
       "      <td>Senior Data Analyst</td>\n",
       "      <td>Senior Customer Data Analyst</td>\n",
       "      <td>Deeside, UK</td>\n",
       "      <td>Full-time</td>\n",
       "      <td>False</td>\n",
       "      <td>United Kingdom</td>\n",
       "      <td>2023-03-30 15:15:20</td>\n",
       "      <td>sql</td>\n",
       "    </tr>\n",
       "  </tbody>\n",
       "</table>\n",
       "<p>773936 rows × 11 columns</p>\n",
       "</div>"
      ],
      "text/plain": [
       "       company_id             name   job_id      job_title_short  \\\n",
       "0               0       Cryptology        0         Data Analyst   \n",
       "1               0       Cryptology  1695656         Data Analyst   \n",
       "2               0       Cryptology  1819517         Data Analyst   \n",
       "3               0       Cryptology   923232         Data Analyst   \n",
       "4               1           Edraak   426775       Cloud Engineer   \n",
       "...           ...              ...      ...                  ...   \n",
       "773931      99997  1st Source Bank  1035725         Data Analyst   \n",
       "773932      99997  1st Source Bank   970738         Data Analyst   \n",
       "773933      99999          Iceland  1033637  Senior Data Analyst   \n",
       "773934      99999          Iceland  1035909     Business Analyst   \n",
       "773935      99999          Iceland   642276  Senior Data Analyst   \n",
       "\n",
       "                                                job_title  \\\n",
       "0                                  Marketing Data Analyst   \n",
       "1                                  Marketing Data Analyst   \n",
       "2                                  Marketing Data Analyst   \n",
       "3                                  Marketing Data Analyst   \n",
       "4                                 Virtualization Engineer   \n",
       "...                                                   ...   \n",
       "773931  Business Data Analyst II, Loan Operations, Sou...   \n",
       "773932     Credit Business Data Analyst I, South Bend, IN   \n",
       "773933  Senior Customer Data Analyst. Job in Deeside M...   \n",
       "773934                            Junior Business Analyst   \n",
       "773935                       Senior Customer Data Analyst   \n",
       "\n",
       "               job_location job_schedule_type job_work_from_home  \\\n",
       "0                  Anywhere         Full-time               True   \n",
       "1                  Anywhere         Full-time               True   \n",
       "2             Madrid, Spain         Full-time              False   \n",
       "3                  Anywhere         Full-time               True   \n",
       "4       Kuwait City, Kuwait         Full-time              False   \n",
       "...                     ...               ...                ...   \n",
       "773931       South Bend, IN         Full-time              False   \n",
       "773932       South Bend, IN         Full-time              False   \n",
       "773933          Deeside, UK         Full-time              False   \n",
       "773934              Austria         Full-time              False   \n",
       "773935          Deeside, UK         Full-time              False   \n",
       "\n",
       "                search_location     job_posted_date      skills  \n",
       "0                        Serbia 2023-09-25 17:46:06  sql,python  \n",
       "1                United Kingdom 2023-09-25 18:11:19              \n",
       "2                         Spain 2023-10-10 10:32:19  sql,python  \n",
       "3                         Spain 2023-09-25 17:51:21  sql,python  \n",
       "4                        Kuwait 2023-06-06 17:35:59              \n",
       "...                         ...                 ...         ...  \n",
       "773931  Illinois, United States 2023-04-26 21:03:09           c  \n",
       "773932  Illinois, United States 2023-01-14 02:04:10              \n",
       "773933           United Kingdom 2023-03-15 10:13:59         sql  \n",
       "773934                  Austria 2023-10-08 21:43:02              \n",
       "773935           United Kingdom 2023-03-30 15:15:20         sql  \n",
       "\n",
       "[773936 rows x 11 columns]"
      ]
     },
     "execution_count": 67,
     "metadata": {},
     "output_type": "execute_result"
    }
   ],
   "source": [
    "final_dataframe"
   ]
  },
  {
   "cell_type": "code",
   "execution_count": null,
   "id": "7389c836",
   "metadata": {},
   "outputs": [],
   "source": []
  }
 ],
 "metadata": {
  "kernelspec": {
   "display_name": "Python 3",
   "language": "python",
   "name": "python3"
  },
  "language_info": {
   "codemirror_mode": {
    "name": "ipython",
    "version": 3
   },
   "file_extension": ".py",
   "mimetype": "text/x-python",
   "name": "python",
   "nbconvert_exporter": "python",
   "pygments_lexer": "ipython3",
   "version": "3.13.0"
  }
 },
 "nbformat": 4,
 "nbformat_minor": 5
}
